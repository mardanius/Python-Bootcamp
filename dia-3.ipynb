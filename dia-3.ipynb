{
 "cells": [
  {
   "cell_type": "code",
   "execution_count": 21,
   "metadata": {},
   "outputs": [
    {
     "name": "stdout",
     "output_type": "stream",
     "text": [
      "La cantidad de letras NO coincide con el número ingresado\n"
     ]
    }
   ],
   "source": [
    "## Challenge 14\n",
    "# Crear una función que reciba dos parámetros (una palabra y un número), y que devuelva True si el número es igual a la cantidad de letras de la palabra. \n",
    "# En caso contrario, que devuelva False.\n",
    "# Pista: cantidad de letras de una palabra en python\n",
    "\n",
    "palabra = input(\"Ingrese palabra\")\n",
    "numero = int(input(\"Ingrese número\"))\n",
    "\n",
    "def comparar(palabra, numero):\n",
    "    if len(palabra) == numero:\n",
    "        return True\n",
    "    else:\n",
    "        return False\n",
    "\n",
    "resultado_booleano = comparar(palabra, numero)\n",
    "\n",
    "if resultado_booleano:\n",
    "    print(\"La cantidad de letras SI coincide con el número ingresado\")\n",
    "else:\n",
    "    print(\"La cantidad de letras NO coincide con el número ingresado\")"
   ]
  },
  {
   "cell_type": "code",
   "execution_count": 4,
   "metadata": {},
   "outputs": [
    {
     "name": "stdout",
     "output_type": "stream",
     "text": [
      "h\n"
     ]
    }
   ],
   "source": [
    "## Challenge 15\n",
    "# Crear función que revise si una palabra contiene una letra. En caso de que la contenga, retornar la letra entre corchetes []. \n",
    "# De lo contrario, retornar solo la letra\n",
    "\n",
    "palabra = input(\"INGRESE PALABRA\")\n",
    "letra = input(\"INGRESE LETRA\")\n",
    "\n",
    "palabra.lower()\n",
    "letra.lower()\n",
    "\n",
    "def buscarLetra(palabra, letra):\n",
    "    if letra in palabra:\n",
    "        return \"[\" + letra + \"]\"\n",
    "    else:\n",
    "        return letra\n",
    "\n",
    "\n",
    "print(buscarLetra(palabra, letra))\n"
   ]
  },
  {
   "cell_type": "code",
   "execution_count": 9,
   "metadata": {},
   "outputs": [
    {
     "name": "stdout",
     "output_type": "stream",
     "text": [
      "[['f', 's', 'd']]\n",
      "[['f', 's', 'd'], ['f', 's', 'd']]\n",
      "[['f', 's', 'd'], ['f', 's', 'd'], ['d', 's', 'f']]\n"
     ]
    }
   ],
   "source": [
    "## Challenge 16\n",
    "# Pedir al usuario que ingrese 1 palabra, luego convertir esa palabra a una lista de sus caracteres con list(). \n",
    "# Agregar esa lista de caracteres a una lista llamada palabras_ingresadas. Repetir el proceso 3 veces. \n",
    "# Cada vez que se agregue una lista de caracteres, imprimir la lista palabras_ingresadas.\n",
    "\n",
    "i = 0\n",
    "palabra_ingresadas = []\n",
    "\n",
    "while i < 3:\n",
    "    i = i + 1\n",
    "    palabra = input(\"Ingrese una palabra\")\n",
    "    lista = list(palabra)\n",
    "    palabra_ingresadas.append(lista)\n",
    "    print(palabra_ingresadas)"
   ]
  },
  {
   "cell_type": "code",
   "execution_count": 28,
   "metadata": {},
   "outputs": [
    {
     "name": "stdout",
     "output_type": "stream",
     "text": [
      "['h', 'o', 'l', 'i', 's']\n",
      "['h', 'e', 'l', 'l', 'o']\n",
      "['h', 'a', 'l', 'l', 'o']\n"
     ]
    }
   ],
   "source": [
    "## Challenge 17\n",
    "# Dada la lista de ejemplo:\n",
    "# lista = [['h', 'o', 'l', 'i', 's'], ['h', 'e', 'l', 'l', 'o'], ['h', 'a', 'l', 'l', 'o']]\n",
    "# Crear una función que imprima una grilla (lista de listas), una línea por cada lista dentro de la lista principal.\n",
    "# Ejemplo del resultado esperado:\n",
    "# ['h', 'o', 'l', 'i', 's']\n",
    "# ['h', 'e', 'l', 'l', 'o']\n",
    "# ['h', 'a', 'l', 'l', 'o']\n",
    "\n",
    "lista = [['h', 'o', 'l', 'i', 's'], ['h', 'e', 'l', 'l', 'o'], ['h', 'a', 'l', 'l', 'o']]\n",
    "\n",
    "tamano_de_lista = len(lista) - 1\n",
    "\n",
    "def grilla():\n",
    "    i = 0\n",
    "    while i <= tamano_de_lista:\n",
    "            print(lista[i])\n",
    "            i = i + 1\n",
    "\n",
    "#print(grilla())\n",
    "grilla()\n"
   ]
  },
  {
   "cell_type": "code",
   "execution_count": 29,
   "metadata": {},
   "outputs": [
    {
     "name": "stdout",
     "output_type": "stream",
     "text": [
      "['h', 'o', 'l', 'i', 's']\n",
      "['h', 'e', 'l', 'l', 'o']\n",
      "['h', 'a', 'l', 'l', 'o']\n",
      "['h', 'a', 'l', 'l', 'o']\n",
      "['h', 'a', 'l', 'l', 'o']\n",
      "['h', 'a', 'l', 'l', 'o']\n"
     ]
    }
   ],
   "source": [
    "lista = [['h', 'o', 'l', 'i', 's'], ['h', 'e', 'l', 'l', 'o'], ['h', 'a', 'l', 'l', 'o'], ['h', 'a', 'l', 'l', 'o'], ['h', 'a', 'l', 'l', 'o'], ['h', 'a', 'l', 'l', 'o']]\n",
    "#print(len(lista))\n",
    "\n",
    "def grill():\n",
    "    for index in range(len(lista)):\n",
    "        print(lista[index])\n",
    "\n",
    "grill()"
   ]
  },
  {
   "cell_type": "code",
   "execution_count": null,
   "metadata": {},
   "outputs": [],
   "source": []
  }
 ],
 "metadata": {
  "kernelspec": {
   "display_name": "Python 3.10.5 64-bit (windows store)",
   "language": "python",
   "name": "python3"
  },
  "language_info": {
   "codemirror_mode": {
    "name": "ipython",
    "version": 3
   },
   "file_extension": ".py",
   "mimetype": "text/x-python",
   "name": "python",
   "nbconvert_exporter": "python",
   "pygments_lexer": "ipython3",
   "version": "3.10.5"
  },
  "orig_nbformat": 4,
  "vscode": {
   "interpreter": {
    "hash": "580f57184cd187be0cf3e8151cfdb31c8925e3d1629732bc9806cb56e67d3ac0"
   }
  }
 },
 "nbformat": 4,
 "nbformat_minor": 2
}
