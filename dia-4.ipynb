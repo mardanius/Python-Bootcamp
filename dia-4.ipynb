{
 "cells": [
  {
   "cell_type": "code",
   "execution_count": 4,
   "metadata": {},
   "outputs": [
    {
     "name": "stdout",
     "output_type": "stream",
     "text": [
      "Me llamo Rayo y soy un perro de color Marron, tengo 4 patas y 1 cola\n",
      "Me llamo Nolo y soy una cotorra de color Verde, tengo 2 patas y 2 alas\n"
     ]
    }
   ],
   "source": [
    "## Challenge 18\n",
    "# Crear dos class de animales que tengan atributos de clase y de instancia.\n",
    "\n",
    "# - Atributos de clase: especie.\n",
    "# - Atributos de instancia: nombre & color.\n",
    "# Luego, crear nuevos objetos a partir de las nuevas class. Imprimir el nombre y el color de los animales en una frase que diga: \"Me llamo Alex y soy un ave de color blanco\".\n",
    "\n",
    "class perros:\n",
    "    patas = 4\n",
    "    cola = 1\n",
    "    especie = \"Canis lupus familiaris\"\n",
    "    def __init__(self, name, color):\n",
    "        self.name = name\n",
    "        self.color = color\n",
    "\n",
    "class aves:\n",
    "    patas = 2\n",
    "    alas = 2\n",
    "    especie = \"Linnaeus\"\n",
    "    def __init__(self, name, color):\n",
    "        self.name = name\n",
    "        self.color = color\n",
    "\n",
    "#Creación de la instancia perros\n",
    "perrito = perros(\"Rayo\", \"Marron\")\n",
    "print(f\"Me llamo {perrito.name} y soy un perro de color {perrito.color}, tengo {perrito.patas} patas y {perrito.cola} cola\")\n",
    "\n",
    "#Creación de la instancia aves\n",
    "cotorra = aves(\"Nolo\", \"Verde\")\n",
    "print(f\"Me llamo {cotorra.name} y soy una cotorra de color {cotorra.color}, tengo {cotorra.patas} patas y {cotorra.alas} alas\")\n",
    "\n"
   ]
  },
  {
   "cell_type": "code",
   "execution_count": 12,
   "metadata": {},
   "outputs": [
    {
     "name": "stdout",
     "output_type": "stream",
     "text": [
      "Cuando hablo, digo gauu gaugu guau\n",
      "Cuando me muevo, hago sarambi\n",
      "\n",
      "Cuando hablo, digo pio pio pio\n",
      "Cuando me muevo, hago mover el aire\n"
     ]
    }
   ],
   "source": [
    "## Challenge 19 🤺\n",
    "# Crear dos métodos por animal, que sea hablar y moverse.\n",
    "\n",
    "# En el método hablar, imprimir: \"Cuando hablo, digo X\".\n",
    "# En el método mover, imprimir: \"Cuando me muevo, hago X\".\n",
    "\n",
    "# X debe ser algo específico de ese animal\n",
    "\n",
    "class perros:\n",
    "    patas = 4\n",
    "    cola = 1\n",
    "    especie = \"Canis lupus familiaris\"\n",
    "    def __init__(self, name, color):\n",
    "        self.name = name\n",
    "        self.color = color\n",
    "\n",
    "    def hablar (self, decir):\n",
    "        print(f\"Cuando hablo, digo {decir}\")\n",
    "\n",
    "    def mover (self, hacer):\n",
    "        print(f\"Cuando me muevo, hago {hacer}\")\n",
    "\n",
    "class aves:\n",
    "    patas = 2\n",
    "    alas = 2\n",
    "    especie = \"Linnaeus\"\n",
    "    def __init__(self, name, color):\n",
    "        self.name = name\n",
    "        self.color = color\n",
    "\n",
    "    def hablar (self, decir):\n",
    "        print(f\"Cuando hablo, digo {decir}\")\n",
    "\n",
    "    def mover (self, hacer):\n",
    "        print(f\"Cuando me muevo, hago {hacer}\")\n",
    "\n",
    "#Creación de la instancia perros\n",
    "perrito = perros(\"Rayo\", \"Marron\")\n",
    "\n",
    "perrito.hablar(\"gauu gaugu guau\")\n",
    "perrito.mover(\"sarambi\")\n",
    "\n",
    "print(\"\")\n",
    "\n",
    "#Creación de la instancia aves\n",
    "cotorra = aves(\"Nolo\", \"Verde\")\n",
    "\n",
    "perrito.hablar(\"pio pio pio\")\n",
    "perrito.mover(\"mover el aire\")"
   ]
  },
  {
   "cell_type": "code",
   "execution_count": 25,
   "metadata": {},
   "outputs": [
    {
     "name": "stdout",
     "output_type": "stream",
     "text": [
      "<__main__.madre object at 0x00000235FC643EB0>\n"
     ]
    }
   ],
   "source": [
    "## Challenge 20 🤺\n",
    "# Definir una clase madre que herede a sus clases hijas dos atributos de instancia. Mostrar ambos atributos en pantalla desde los objetos de las clases hijas.\n",
    "# Observación: Editar las clases hijas para que no se inicialicen.\n",
    "\n",
    "class madre:\n",
    "    amabilidad = True\n",
    "    color_cabello = 'castanho'\n",
    "\n",
    "class padre:\n",
    "    color_ojos = \"marrón\"\n",
    "\n",
    "class hija_1(madre, padre):\n",
    "    pass\n",
    "    #caracter = 'rebelde'\n",
    "\n",
    "class hija_2(madre, padre):\n",
    "    pass\n",
    "    #caracter = 'obediente'\n",
    "\n",
    "Eustaquia = madre()\n",
    "Maria = hija_1()\n",
    "Sofia = hija_2()\n",
    "\n",
    "\n",
    "#print(Maria.amabilidad)\n",
    "#print(Maria.color_ojos)\n",
    "#print(Maria.color_cabello)\n",
    "#print(Maria.caracter)\n",
    "#print('')\n",
    "#print(Sofia.amabilidad)\n",
    "#print(Sofia.color_cabello)\n",
    "#print(Sofia.caracter)\n",
    "\n",
    "print(Eustaquia)"
   ]
  },
  {
   "cell_type": "code",
   "execution_count": 38,
   "metadata": {},
   "outputs": [
    {
     "name": "stdout",
     "output_type": "stream",
     "text": [
      "Dani\n",
      "31\n",
      "masculino\n",
      "6546646\n",
      "mario@fasd.com\n"
     ]
    }
   ],
   "source": [
    "## Challenge 21 🤺\n",
    "# Escribir un programa que cree un diccionario vacío y lo vaya llenado con información sobre una persona \n",
    "# (por ejemplo nombre, edad, sexo, teléfono, correo electrónico, etc.) que se le pida al usuario. \n",
    "# Cada vez que se añada un nuevo dato debe imprimirse el contenido del diccionario.\n",
    "\n",
    "contacto = {}\n",
    "datos = ['nombre', 'edad', 'sexo', 'tel', 'email']\n",
    "\n",
    "for n in range(5):\n",
    "    contacto[datos[n]] = input(f\"Ingrese {datos[n]}\")\n",
    "    print(contacto[datos[n]])"
   ]
  },
  {
   "cell_type": "code",
   "execution_count": 28,
   "metadata": {},
   "outputs": [
    {
     "name": "stdout",
     "output_type": "stream",
     "text": [
      "{'name': 'dani'}\n"
     ]
    }
   ],
   "source": [
    "## Challenge 22\n",
    "# Crear una tarjeta personal. El usuario (mediante input) puede elegir:\n",
    "# 1. Crear datos nuevos\n",
    "# 2. Modificar datos\n",
    "# 3. Eliminar datos\n",
    "\n",
    "tarjeta_personal = {}\n",
    "tarea = int(input('¿Que quieres hacer? \\n 1 - Ingresar dato \\n 2 - Modificar dato \\n 3 - Eliminar dato'))\n",
    "\n",
    "if tarea == 1:\n",
    "    clave = input('Ingrese clave')\n",
    "    valor = input('Ingrese valor')\n",
    "    tarjeta_personal[clave] = valor\n",
    "elif tarea == 2:\n",
    "    \n",
    "#elif tarea == 3:\n",
    "\n",
    "print(tarjeta_personal)\n",
    "    \n"
   ]
  },
  {
   "cell_type": "code",
   "execution_count": 48,
   "metadata": {},
   "outputs": [
    {
     "name": "stdout",
     "output_type": "stream",
     "text": [
      "{'jack': 4098, 'guido': 4127, 'irv': '09817545689'}\n"
     ]
    }
   ],
   "source": [
    "## Challenge 3 🤺\n",
    "# Crear una agenda. El usuario puede elegir:\n",
    "\n",
    "# 1. Mostrar los contactos\n",
    "# 2. Crear contacto\n",
    "# 3. Modificar datos del contacto\n",
    "\n",
    "contactos = {'jack': 4098, 'guido': 4127, 'irv': 4127}\n",
    "\n",
    "opcion = int(input('¿Que quieres hacer?'))\n",
    "if opcion == 1:\n",
    "    print(contactos)\n",
    "\n",
    "elif opcion == 2:\n",
    "    nombre = input('Ingrese nombre')\n",
    "    numero = input('Ingrese número')\n",
    "    contactos[nombre] = numero\n",
    "    print(contactos)\n",
    "\n",
    "elif opcion == 3:\n",
    "    modificar = input(\"Cual es el contacto que quieres modificar?\")\n",
    "    a_modificar = int(input(\"¿Queres modificar nombre o número? 1 = número // 2 = nombre \" ))\n",
    "\n",
    "    if a_modificar == 1:\n",
    "        contactos[modificar] = input('Ingrese el número de teléfono nuevo')\n",
    "    elif a_modificar == 2:\n",
    "\n",
    "        #Para modificar el key hay que primero hacer una copia del mismo, de forma temporal, reasignar con el nuevo valor y eliminar el viejo\n",
    "        contactos[modificar] = input('Ingrese el nombre actualizado')\n",
    "\n",
    "print(contactos)\n",
    "    "
   ]
  }
 ],
 "metadata": {
  "kernelspec": {
   "display_name": "Python 3.10.5 64-bit (windows store)",
   "language": "python",
   "name": "python3"
  },
  "language_info": {
   "codemirror_mode": {
    "name": "ipython",
    "version": 3
   },
   "file_extension": ".py",
   "mimetype": "text/x-python",
   "name": "python",
   "nbconvert_exporter": "python",
   "pygments_lexer": "ipython3",
   "version": "3.10.5"
  },
  "orig_nbformat": 4,
  "vscode": {
   "interpreter": {
    "hash": "580f57184cd187be0cf3e8151cfdb31c8925e3d1629732bc9806cb56e67d3ac0"
   }
  }
 },
 "nbformat": 4,
 "nbformat_minor": 2
}
