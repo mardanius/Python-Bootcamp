{
 "cells": [
  {
   "cell_type": "code",
   "execution_count": null,
   "metadata": {},
   "outputs": [],
   "source": [
    "## Challenge 6\n",
    "# Un vehículo tiene una cantidad de combustible de 5 litros en el tanque. Decide parar en un surtidor para cargar más. (Sí, el auto decide 🤓)\n",
    "# Crear una función que reciba la cantidad de combustible que se quiere cargar y que se sume a la cantidad de combustible del tanque.\n",
    "# Solución 1\n",
    "tanque = 5\n",
    "\n",
    "def cargarCombustible():\n",
    "    global tanque\n",
    "    nuevoCombus = int(input(\"Cantidad a cargar?\"))\n",
    "    tanque = tanque + nuevoCombus\n",
    "\n",
    "cargarCombustible()\n",
    "print(tanque)"
   ]
  },
  {
   "cell_type": "code",
   "execution_count": 1,
   "metadata": {},
   "outputs": [
    {
     "name": "stdout",
     "output_type": "stream",
     "text": [
      "Ahora tienes 9 litros en tu tanque, cargaste 4 litros\n",
      "Cargar 4 litros, te costo 40000 guaranies \n"
     ]
    }
   ],
   "source": [
    "# Solución 2\n",
    "combustible = 5 #lts\n",
    "def cargar_nafta():\n",
    "    global combustible \n",
    "    litros = int(input(\"Cuantos litros de combustible deseas cargar? \"))\n",
    "    combustible = combustible + litros \n",
    "    print(f\"Ahora tienes {combustible} litros en tu tanque, cargaste {litros} litros\")\n",
    "    precio = litros * 10000\n",
    "    print(f\"Cargar {litros} litros, te costo {precio} guaranies \")\n",
    "\n",
    "cargar_nafta()"
   ]
  },
  {
   "cell_type": "code",
   "execution_count": 1,
   "metadata": {},
   "outputs": [
    {
     "name": "stdout",
     "output_type": "stream",
     "text": [
      "La temperatura ingresada es 55 °C\n",
      "Ñamano mba'e\n"
     ]
    }
   ],
   "source": [
    "## Challenge 7\n",
    "# Escribir un programa en el que se pregunte al usuario por una temperatura (en grados Celsius), \n",
    "# imprima la temperatura escrita, y luego clasificar la temperatura ingresada en los siguientes niveles:\n",
    "# Entre -10 y 18 grados, que imprima \"Fresquete\". Entre 19 y 30 grados, que imprima \"Calor'i\". Entre 31 y 45 grados, que imprima \"Hakuuuuuu\". \n",
    "# Para todo lo demás, imprimir \"Ñamano mba'e!\".\n",
    "\n",
    "def comparacion():\n",
    "    temperatura = int(input(\"¿Cuál es la temperatura?\"))\n",
    "    print(\"La temperatura ingresada es \" + str(temperatura) + \" °C\")\n",
    "    if temperatura >= -10 and temperatura <= 18:\n",
    "        print(\"Fresquete\")\n",
    "    elif temperatura >= 19 and temperatura <= 30:\n",
    "        print(\"Calor'i\")\n",
    "    elif temperatura >= 31 and temperatura <= 45:\n",
    "        print(\"Hakuuuuuu\")\n",
    "    else:\n",
    "        print(\"Ñamano mba'e\")\n",
    "\n",
    "comparacion()\n"
   ]
  },
  {
   "cell_type": "code",
   "execution_count": 7,
   "metadata": {},
   "outputs": [
    {
     "name": "stdout",
     "output_type": "stream",
     "text": [
      "Contrasena incorrecta. Ingrese de vuelta\n",
      "Contrasena CORRECTA!\n"
     ]
    }
   ],
   "source": [
    "## Challenge 8\n",
    "# Escribir un programa que almacene una contraseña en una variable, y pregunte al usuario por la contraseña hasta que introduzca la contraseña correcta.\n",
    "# Cuando el usuario ingrese la contrasena correcta, imprimir un mensaje secreto.\n",
    "\n",
    "contrasena_guardada = \"Hol4\"\n",
    "contrasena_ingresada = input(\"Ingrese contrasena\")\n",
    "\n",
    "while contrasena_guardada != contrasena_ingresada:\n",
    "    print(\"Contrasena incorrecta. Ingrese de vuelta\")\n",
    "    contrasena_ingresada = input(\"Ingrese contrasena\")\n",
    "\n",
    "print(\"Contrasena CORRECTA!\")\n",
    "\n"
   ]
  },
  {
   "cell_type": "code",
   "execution_count": null,
   "metadata": {},
   "outputs": [],
   "source": [
    "# marcas.append(\"nuevo elmento al final del array\")\n",
    "# len(marcas) para saber longitud del array. Obs. len no cuenta el 0, cuenta desde 1.\n",
    "# marcas[2] = \"adfasd\" modificar un elemento\n",
    "# marcas.remove(\"elemento\") eliminar pasando el valor\n",
    "# marcas.pop(2) eliminar utilizando indice \n",
    "\n",
    "# for i in range(number):\n",
    "    # print or action\n",
    "\n",
    "# for i in _nombreArray_:\n",
    "    # print or action"
   ]
  },
  {
   "cell_type": "code",
   "execution_count": 14,
   "metadata": {},
   "outputs": [
    {
     "name": "stdout",
     "output_type": "stream",
     "text": [
      "Lista sin modificacion ['A', 'B', 'C', 'D', 'E']\n",
      "Lista con una nueva letra al final ['A', 'B', 'C', 'D', 'E', 'F']\n",
      "lista con el segundo elemento modificado, ubicado en el índice 1 ['A', 'X', 'C', 'D', 'E', 'F']\n",
      "Lista con el tercer elemento modificado, ubicado en el índice 2 ['A', 'X', 'D', 'E', 'F']\n"
     ]
    }
   ],
   "source": [
    "## Challenge 9\n",
    "# Crear una lista de 5 elementos con algo de su interés o utilizar la lista del challenge anterior.\n",
    "# Luego, seguir los siguientes pasos.\n",
    "# Agregar un elemento al final de la lista.\n",
    "# Modificar el segundo elemento.\n",
    "# Eliminar el tercer elemento.\n",
    "\n",
    "lista = ['A','B','C','D','E']\n",
    "print(\"Lista sin modificacion\", lista)\n",
    "lista.append('F')\n",
    "print(\"Lista con una nueva letra al final\", lista)\n",
    "lista[1] = 'X'\n",
    "print(\"lista con el segundo elemento modificado, ubicado en el índice 1\", lista)\n",
    "lista.pop(2)\n",
    "print(\"Lista con el tercer elemento modificado, ubicado en el índice 2\", lista)\n"
   ]
  },
  {
   "cell_type": "code",
   "execution_count": 21,
   "metadata": {},
   "outputs": [
    {
     "name": "stdout",
     "output_type": "stream",
     "text": [
      "Chevrolet\n",
      "Nissan\n",
      "Toyota\n"
     ]
    }
   ],
   "source": [
    "## Challenge 10\n",
    "# Recorrer los elementos de una lista de marcas de auto dada e imprimir cada marca solamente si tiene 6 letras o más.\n",
    "\n",
    "marcas = [\"Ford\", \"Chevrolet\", \"Nissan\", \"Toyota\"]\n",
    "\n",
    "for marca in marcas:\n",
    "    cantidad = len(marca)\n",
    "    if (cantidad >= 6):\n",
    "        print(marca)"
   ]
  },
  {
   "cell_type": "code",
   "execution_count": null,
   "metadata": {},
   "outputs": [],
   "source": [
    "## Wordle\n",
    "### Requerimientos\n",
    "# - Variables\n",
    "# - Tipos de datos\n",
    "# - Concatenacion\n",
    "# - Operaciones logicas\n",
    "# - Condicionales (control de flujo)\n",
    "# - funcionces (propias y build-in)\n",
    "# - Bucles"
   ]
  },
  {
   "cell_type": "code",
   "execution_count": 22,
   "metadata": {},
   "outputs": [
    {
     "name": "stdout",
     "output_type": "stream",
     "text": [
      "Buenas tardes\n"
     ]
    }
   ],
   "source": [
    "## Challenge 11\n",
    "# Crear una función que imprima un saludo\n",
    "\n",
    "def saludar():\n",
    "    print(\"Buenas tardes\")\n",
    "\n",
    "saludar()"
   ]
  },
  {
   "cell_type": "code",
   "execution_count": 42,
   "metadata": {},
   "outputs": [
    {
     "name": "stdout",
     "output_type": "stream",
     "text": [
      "El vuelto es 3900 Gs.\n"
     ]
    }
   ],
   "source": [
    "## Challenge 12\n",
    "# Hacer una función que calcule el vuelto de la compra, pidiendo que el usuario ingrese dos datos: plata y precio_del_producto\n",
    "# Que la función se llame tu_vuelto_kp\n",
    "\n",
    "def tu_vuelto_kp():\n",
    "    precio_del_producto = int(input(\"Ingrese el precio del producto\"))\n",
    "    plata = int(input(\"Ingrese la plata\"))\n",
    "    vuelto = plata - precio_del_producto\n",
    "    print(\"El vuelto es \" + str(vuelto) + \" Gs.\")\n",
    "\n",
    "tu_vuelto_kp()\n"
   ]
  },
  {
   "cell_type": "code",
   "execution_count": 54,
   "metadata": {},
   "outputs": [
    {
     "name": "stdout",
     "output_type": "stream",
     "text": [
      "La frase ingresada fue: tengo un fosforo\n",
      "'o' encontrada\n",
      "'o' encontrada\n",
      "'o' encontrada\n",
      "'o' encontrada\n",
      "Se encontraron 4 O's\n"
     ]
    }
   ],
   "source": [
    "## Challenge 13\n",
    "# Solicitar al usuario que ingrese una frase.\n",
    "# Imprimir un mensaje cada vez que se encuentre una letra \"o\".\n",
    "\n",
    "def buscar_Os():\n",
    "    cantidad_de_o = 0\n",
    "    frase = input(\"Ingrese la frase\")\n",
    "    print(\"La frase ingresada fue: \" + frase)\n",
    "    for letra in frase:\n",
    "        if letra == \"o\":\n",
    "            print(\"'o' encontrada en la palabra \")\n",
    "            cantidad_de_o = cantidad_de_o + 1\n",
    "    \n",
    "    print(\"Se encontraron \" + str(cantidad_de_o) + \" O's\")\n",
    "\n",
    "buscar_Os()\n"
   ]
  }
 ],
 "metadata": {
  "kernelspec": {
   "display_name": "Python 3.10.5 64-bit (windows store)",
   "language": "python",
   "name": "python3"
  },
  "language_info": {
   "codemirror_mode": {
    "name": "ipython",
    "version": 3
   },
   "file_extension": ".py",
   "mimetype": "text/x-python",
   "name": "python",
   "nbconvert_exporter": "python",
   "pygments_lexer": "ipython3",
   "version": "3.10.5"
  },
  "orig_nbformat": 4,
  "vscode": {
   "interpreter": {
    "hash": "580f57184cd187be0cf3e8151cfdb31c8925e3d1629732bc9806cb56e67d3ac0"
   }
  }
 },
 "nbformat": 4,
 "nbformat_minor": 2
}
