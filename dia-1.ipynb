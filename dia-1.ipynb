{
 "cells": [
  {
   "cell_type": "code",
   "execution_count": 51,
   "metadata": {},
   "outputs": [
    {
     "name": "stdout",
     "output_type": "stream",
     "text": [
      "Cantidad de vehículos: 41\n",
      "Vehículos restantes después de la venta: 24\n",
      "Texto A Texto B\n"
     ]
    }
   ],
   "source": [
    "## Challenge 1\n",
    "#Suma: asignar dos números en dos variables diferentes cantidad_de_motos y cantidad_de_autos. Luego sumar ambas variables en cantidad_de_vehículos. Imprimir la última variable.\n",
    "#Resta: asignar un valor numérico a la variable vehiculos_vendidos. Luego, asignar la resta entre cantidad_de_vehiculos y vehiculos_vendidos a la variable vehiculos_restantes. \n",
    "# Imprimir la última variable.\n",
    "# Suma\n",
    "\n",
    "cantidad_de_motos = 26\n",
    "cantidad_de_autos = 15\n",
    "\n",
    "cantidad_de_vehiculos = cantidad_de_motos + cantidad_de_autos\n",
    "print(\"Cantidad de vehículos:\", cantidad_de_vehiculos)\n",
    "\n",
    "# Resta\n",
    "vehiculos_vendidos = 17\n",
    "\n",
    "vehiculos_restantes = cantidad_de_vehiculos - vehiculos_vendidos\n",
    "print('Vehículos restantes' ' después de la venta:', vehiculos_restantes)\n",
    "\n",
    "# Concatenación\n",
    "srt = 'Texto A' + ' ' + 'Texto B'\n",
    "print(srt)\n"
   ]
  },
  {
   "cell_type": "code",
   "execution_count": 53,
   "metadata": {},
   "outputs": [
    {
     "name": "stdout",
     "output_type": "stream",
     "text": [
      "Hola. Me llamo Bruce Dickinson. Mucho gusto.\n"
     ]
    }
   ],
   "source": [
    "## Challenge 2\n",
    "# Asignar el nombre y el apellido de tu compañera/o a las variables nombre y apellido. Luego, imprimir la siguiente frase, utilizando las variables: \n",
    "# \"Hola. Me llamo {nombre_y_apellido}. Mucho gusto.\"\n",
    "\n",
    "nombre = 'Bruce'\n",
    "apellido = 'Dickinson'\n",
    "\n",
    "print(\"Hola. Me llamo \" + nombre + ' ' + apellido + \". Mucho gusto.\")\n"
   ]
  },
  {
   "cell_type": "code",
   "execution_count": 81,
   "metadata": {},
   "outputs": [
    {
     "name": "stdout",
     "output_type": "stream",
     "text": [
      "El resultado es 18\n"
     ]
    }
   ],
   "source": [
    "## Challenge 3\n",
    "#Solicitar al usuario ingresar dos números y almacenarlos en dos variables. Luego, imprimir la suma de los dos números.\n",
    "# Método 1 - convertir a integer en el input\n",
    "\n",
    "numero_1 = int(input(\"Ingrese primer número\")) \n",
    "numero_2 = int(input(\"Ingrese segundo número\"))\n",
    "\n",
    "resultado_suma = numero_1 + numero_2\n",
    "\n",
    "print(\"El resultado es \" + str(resultado_suma))\n",
    "\n"
   ]
  },
  {
   "cell_type": "code",
   "execution_count": 83,
   "metadata": {},
   "outputs": [
    {
     "name": "stdout",
     "output_type": "stream",
     "text": [
      "El resultado es 7\n"
     ]
    }
   ],
   "source": [
    "# Método 2 - convertir a integer en la operación\n",
    "\n",
    "numero_1 = input(\"Ingrese primer número\")\n",
    "numero_2 = input(\"Ingrese segundo número\")\n",
    "\n",
    "resultado_suma = int(numero_1) + int(numero_2)\n",
    "\n",
    "print(\"El resultado es \" + str(resultado_suma))\n"
   ]
  },
  {
   "cell_type": "code",
   "execution_count": 94,
   "metadata": {},
   "outputs": [
    {
     "name": "stdout",
     "output_type": "stream",
     "text": [
      "Calentar agua\n",
      "Poner café en el filtro\n",
      "Con el agua muy caliente filtrar el café lentamente\n",
      "Calentar agua\n",
      "Poner café en el filtro\n",
      "Con el agua muy caliente filtrar el café lentamente\n",
      "Calentar agua\n",
      "Poner café en el filtro\n",
      "Con el agua muy caliente filtrar el café lentamente\n"
     ]
    }
   ],
   "source": [
    "## Challenge 4\n",
    "# Crear una función de un proceso que se les ocurra que tenga varios pasos. Ejecutar la función 3 veces.\n",
    "\n",
    "def hacer_cafe():\n",
    "    print(\"Calentar agua\")\n",
    "    print(\"Poner café en el filtro\")\n",
    "    print(\"Con el agua muy caliente filtrar el café lentamente\")\n",
    "\n",
    "hacer_cafe()\n",
    "hacer_cafe()\n",
    "hacer_cafe()\n",
    "\n"
   ]
  },
  {
   "cell_type": "markdown",
   "metadata": {},
   "source": [
    "\n"
   ]
  },
  {
   "cell_type": "code",
   "execution_count": 102,
   "metadata": {},
   "outputs": [
    {
     "name": "stdout",
     "output_type": "stream",
     "text": [
      "Un vehículo Land Rover Defender de color blanco, con 7 asientos se ha vendido\n",
      "Un vehículo Land Rover Defender de color blanco, con 7 salió de la tienda\n",
      "Fue comprado por Dani :')\n"
     ]
    }
   ],
   "source": [
    "## Challenge 5\n",
    "# Dada la función que acabamos de crear, de la venta de autos, que la función solicite más información sobre el vehículo que se quiere comprar. \n",
    "# Integrar la información a los mensajes que se muestran en la función.\n",
    "\n",
    "def vender_auto(marca, modelo, color, asientos):\n",
    "    print(\"Un vehículo \" + marca + \" \" + modelo + \" de color \" + color + \", con \" + str(asientos) + \" asientos se ha vendido\")\n",
    "    print(\"Un vehículo \" + marca + \" \" + modelo + \" de color \" + color + \", con \" + str(asientos) + \" salió de la tienda\")\n",
    "    print(\"Fue comprado por Dani :')\")\n",
    "\n",
    "vender_auto(\"Land Rover\", \"Defender\", \"blanco\", 7)"
   ]
  },
  {
   "cell_type": "code",
   "execution_count": null,
   "metadata": {},
   "outputs": [],
   "source": [
    "# Some built-in in Python\n",
    "\n",
    "input()\n",
    "str()\n",
    "int()\n",
    "float()\n",
    "bool()"
   ]
  },
  {
   "cell_type": "code",
   "execution_count": 110,
   "metadata": {},
   "outputs": [
    {
     "name": "stdout",
     "output_type": "stream",
     "text": [
      "10\n",
      "20\n"
     ]
    }
   ],
   "source": [
    "# Testing Global and local variables\n",
    "\n",
    "variable = 10\n",
    "\n",
    "def check():\n",
    "    global variable\n",
    "    variable = 20\n",
    "    print(variable)\n",
    "\n",
    "print(variable)\n",
    "check()\n"
   ]
  },
  {
   "cell_type": "code",
   "execution_count": 1,
   "metadata": {},
   "outputs": [
    {
     "name": "stdout",
     "output_type": "stream",
     "text": [
      "9\n"
     ]
    }
   ],
   "source": []
  }
 ],
 "metadata": {
  "kernelspec": {
   "display_name": "Python 3.10.5 64-bit (windows store)",
   "language": "python",
   "name": "python3"
  },
  "language_info": {
   "codemirror_mode": {
    "name": "ipython",
    "version": 3
   },
   "file_extension": ".py",
   "mimetype": "text/x-python",
   "name": "python",
   "nbconvert_exporter": "python",
   "pygments_lexer": "ipython3",
   "version": "3.10.5"
  },
  "orig_nbformat": 4,
  "vscode": {
   "interpreter": {
    "hash": "580f57184cd187be0cf3e8151cfdb31c8925e3d1629732bc9806cb56e67d3ac0"
   }
  }
 },
 "nbformat": 4,
 "nbformat_minor": 2
}
